{
 "cells": [
  {
   "cell_type": "code",
   "execution_count": 240,
   "id": "9bae82ba-a12d-46bb-9938-40b93ab9ff2c",
   "metadata": {},
   "outputs": [
    {
     "name": "stdout",
     "output_type": "stream",
     "text": [
      "Welcome!\n"
     ]
    },
    {
     "name": "stderr",
     "output_type": "stream",
     "text": [
      "Traceback (most recent call last):\n",
      "  File \"C:\\Users\\UTENTE\\Desktop\\meva_git\\MEvA-X\\Tutorial\\a.py\", line 51, in <module>\n",
      "    sanity_check(args)\n",
      "  File \"C:\\Users\\UTENTE\\Desktop\\meva_git\\MEvA-X\\Tutorial\\a.py\", line 11, in sanity_check\n",
      "    assert type(args.FS_dir) == str, \"FS_dir should be 'hello'\"\n",
      "AssertionError: FS_dir should be 'hello'\n"
     ]
    }
   ],
   "source": [
    "!python a.py -A some_texty.csv -B ./anothe_path.txt  --goal_sig_path something.csv"
   ]
  }
 ],
 "metadata": {
  "kernelspec": {
   "display_name": "Python 3 (ipykernel)",
   "language": "python",
   "name": "python3"
  },
  "language_info": {
   "codemirror_mode": {
    "name": "ipython",
    "version": 3
   },
   "file_extension": ".py",
   "mimetype": "text/x-python",
   "name": "python",
   "nbconvert_exporter": "python",
   "pygments_lexer": "ipython3",
   "version": "3.9.16"
  }
 },
 "nbformat": 4,
 "nbformat_minor": 5
}
