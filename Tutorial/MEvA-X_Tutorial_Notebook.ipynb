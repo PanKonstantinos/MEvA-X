{
 "cells": [
  {
   "cell_type": "markdown",
   "id": "e4f81300",
   "metadata": {},
   "source": [
    "# Tutorial for the use of the MEvA-X tool"
   ]
  },
  {
   "cell_type": "markdown",
   "id": "48a24773",
   "metadata": {},
   "source": [
    "<p>In this tutorial you will find instructions on how to run the MEvA-X for the datasets presented in the manuscript and an explanation of the parameters and variables the user can modify. Additionally, the necessary modules are provided with the version that was used while the algorithm was tested.</p>"
   ]
  },
  {
   "cell_type": "markdown",
   "id": "91addcbe",
   "metadata": {},
   "source": [
    "## Installing the necessary modules/libraries\n",
    "<p>Skip the <code>if False:</code> condition to run the followin cells code and install the libraries to your system</p>"
   ]
  },
  {
   "cell_type": "code",
   "execution_count": null,
   "id": "3d0886b0",
   "metadata": {},
   "outputs": [],
   "source": [
    "if False:\n",
    "    import sys\n",
    "    !{sys.executable} -m pip install pandas==1.4.4\n",
    "    !{sys.executable} -m pip install numpy==1.21.5\n",
    "    !{sys.executable} -m pip install xgboost==1.7.3\n",
    "    !{sys.executable} -m pip install git+https://github.com/danielhomola/mifs#egg=httpie\n",
    "    !{sys.executable} -m pip install git+https://github.com/iskandr/knnimpute#egg=httpie\n"
   ]
  },
  {
   "cell_type": "markdown",
   "id": "cc0202ab",
   "metadata": {},
   "source": [
    "## Examples of use"
   ]
  },
  {
   "cell_type": "markdown",
   "id": "0a644819-8451-42ef-adf8-5bd3d94c7f63",
   "metadata": {},
   "source": [
    "#### Calling the general the Algorithm (user inputs)"
   ]
  },
  {
   "cell_type": "markdown",
   "id": "af6b2351-4fd4-4afa-8694-fb9b1e069cc8",
   "metadata": {
    "tags": []
   },
   "source": [
    "<h3> Explanation of the in-line attributes of the MEvA-X tool</h3>\n",
    "<ul>\n",
    "    <li><code>--dataset_path</code> or <code>-A</code> [str (path to file)] path to the file of the dataset [obligatory]</li>\n",
    "    <li><code>--labels_path</code> or <code>-B</code> [str (path to file)] path to the file of the labels [obligatory]</li>\n",
    "    <li><code>--FS_dir</code> [str (path to direcroty)] path to the directory of the Feature selection methods files [optional]</li>\n",
    "    <li><code>--output_dir</code> [str (path to direcroty)] path to the directory where to save the results [optional]</li> \n",
    "    <li><code>--K</code> or <code>-k</code> [int] the number of folds in K-Fold cross validation [optional]. Default = 10</li>\n",
    "    <li><code>--P</code> or <code>-p</code> [int] the number of individuals in the population [optional]. Default = 50</li>\n",
    "    <li><code>--G</code> or <code>-g</code> [int] the number of maximum generations of the Evolutionary Algorithm [optional]. Default = 0</li>\n",
    "    <li><code>--crossover_perc</code> [float] the probability of a two-point crossover on the parental chromosomes taking place while producing an offspring [optional]. Default = 0.9</li>\n",
    "    <li><code>--arithmetic_perc</code> [float] the probability of an arithmetic crossover on the parental chromosomes taking place while producing an offspring [optional]. Default = 0.0</li>\n",
    "    <li><code>--mutation_perc</code> [float] the probability of pint mutations occuring to an offspring's chromosome [optional]. Default = 0.05</li>\n",
    "    <li><code>--goal_sig_path</code> or <code>-gsp</code> [str (path to file)] path to the file of the evaluation metrics weights [optional]. If given <code>goal_sig_list</code> is ignored</li>\n",
    "    <li><code>--goal_sig_list</code> or <code>-gsl</code> [list of float] a list of the weigts for the evaluation metrics [optional]</li>\n",
    "    <li><code>--impute</code> [boolean] Select if the missing values should be imputed with a KNN imputer. Default = <code>True</code></li>\n",
    "    <li><code>--normalize</code> [boolean] Select if the data should get normalized. If <code>True</code> it normalizes the values between the intervals [0, 1] or [-1, 1] if there are negative. Default = <code>True</code></li>\n",
    "    <li><code>--verbose</code> or <code>-V</code> [boolean] Controls the amount of information to be printed by the algorithm[optional]. Default is <code>False</code> (view less messages)</li>\n",
    "    <li><code>--plot</code> or <code>-plt</code> [boolean] The option of plotting and saving the AUC of the trainngs. If <code>True</code> it produces AUC plots for every itteration but also slows down the algorithm. Default = False</li>\n",
    "</ul>"
   ]
  },
  {
   "cell_type": "code",
   "execution_count": 1,
   "id": "8703d1a9-0058-4380-bffc-6e1e6c0126e5",
   "metadata": {
    "tags": []
   },
   "outputs": [
    {
     "name": "stdout",
     "output_type": "stream",
     "text": [
      "usage: MEvA-X [-h] --dataset_path DATASET_FILENAME --labels_path\n",
      "              LABELS_FILENAME [--FS_dir FS_DIR] [--output_dir OUTPUT_FOLDER]\n",
      "              [--K NUM_OF_FOLDS] [--P POPULATION] [--G GENERATIONS]\n",
      "              [--crossover_perc TWO_POINTS_CROSSOVER_PROBABILITY]\n",
      "              [--arithmetic_perc ARITHMETIC_CROSSOVER_PROBABILITY]\n",
      "              [--mutation_perc MUTATION_PROBABILITY]\n",
      "              [--goal_sig_path GOAL_SIGNIFICANCES_PATH]\n",
      "              [--goal_sig_list [GOAL_SIGNIFICANCES_LIST ...]]\n",
      "              [--impute MISSING_VALUES_FLAG] [--normalize NORMALIZE_FLAG]\n",
      "              [--verbose VERBOSE] [--plot TO_PLOT]\n",
      "\n",
      "A hybrid algorithm for feature selection, hyper-parameter optimization and\n",
      "model training. MEvA-X uses a combination of a Nitched Pareto Evolutionary\n",
      "algorithm and the XGBoost Classifier to achieve the above-mentioned\n",
      "objectives. The end result is a cluster of equally acceptale trained models\n",
      "solving the given problem.\n",
      "\n",
      "optional arguments:\n",
      "  -h, --help            show this help message and exit\n",
      "  --dataset_path DATASET_FILENAME, -A DATASET_FILENAME\n",
      "                        [str]: The path to the file containing the data.\n",
      "                        Format expected: FeaturesXSamples\n",
      "  --labels_path LABELS_FILENAME, -B LABELS_FILENAME\n",
      "                        [str]: The path to the file containing the labels of\n",
      "                        the data. Sample names should not be used\n",
      "  --FS_dir FS_DIR       [str]: The path to the directory containing\n",
      "                        precalculated features from the Feature Selection\n",
      "                        techniques (mRMR, JMI, Wilcoxon, and SelectKBest)\n",
      "  --output_dir OUTPUT_FOLDER\n",
      "  --K NUM_OF_FOLDS, -k NUM_OF_FOLDS\n",
      "                        [int]: The number of folds to be used in the K-fold\n",
      "                        cross validation. Default = 10\n",
      "  --P POPULATION, -p POPULATION\n",
      "                        [int]: The number of individual solutions. Default =\n",
      "                        50\n",
      "  --G GENERATIONS, -g GENERATIONS\n",
      "                        [int]: The number of maximum generations for the\n",
      "                        Evolutionry Algorithm. Default = 100\n",
      "  --crossover_perc TWO_POINTS_CROSSOVER_PROBABILITY\n",
      "                        [float]: Probability of a two-point crossover for the\n",
      "                        creation of a new offsping. Default = 0.9\n",
      "  --arithmetic_perc ARITHMETIC_CROSSOVER_PROBABILITY\n",
      "                        [float]: Probability of an arithmetic crossover for\n",
      "                        the creation of a new offsping. Default = 0.0\n",
      "  --mutation_perc MUTATION_PROBABILITY\n",
      "                        [float]: The probability of point mutations to occure\n",
      "                        in the genome of an offspring. Default = 0.05\n",
      "  --goal_sig_path GOAL_SIGNIFICANCES_PATH, -gsp GOAL_SIGNIFICANCES_PATH\n",
      "                        [str]: The path to the file containing the weights of\n",
      "                        the evaluation metrics\n",
      "  --goal_sig_list [GOAL_SIGNIFICANCES_LIST ...], -gsl [GOAL_SIGNIFICANCES_LIST ...]\n",
      "                        [array-like of floats]: The array of the weights for\n",
      "                        the evaluation metrics. Default = [0.8, 0.8, 0.8, 2,\n",
      "                        1, 1, 1, 1, 2, 0.5, 2]\n",
      "  --impute MISSING_VALUES_FLAG\n",
      "                        [bool]: Select if the missing values should be imputed\n",
      "                        with a KNN imputer. Default = True\n",
      "  --normalize NORMALIZE_FLAG\n",
      "                        [bool]: Select if the data should get normalized. If\n",
      "                        'True' it normalizes the values between the intervals\n",
      "                        [0, 1] or [-1, 1] if there are negative values.\n",
      "                        Default = True\n",
      "  --verbose VERBOSE, -V VERBOSE\n",
      "                        [bool]: The option of printing more information. If\n",
      "                        'False' only information of the program essentials\n",
      "                        will be printed. Default = False\n",
      "  --plot TO_PLOT, -plt TO_PLOT\n",
      "                        [bool]: The option of plotting and saving the AUC of\n",
      "                        the trainngs. If 'True' it produces AUC plots for\n",
      "                        every itteration but also slows down the algorithm.\n",
      "                        Default = False\n",
      "\n",
      "This algorithm is the result of the work of K. Panagiotopoulos, A. Korfiati,\n",
      "K. Theofilatos, M.A. Deriu, and S. Mavroudi\n"
     ]
    }
   ],
   "source": [
    "# Help and explanation of the algorithm\n",
    "!python ../MEvA-X.py -h"
   ]
  },
  {
   "cell_type": "markdown",
   "id": "c0bc9644-38e8-4cbb-9574-9d6995607cbb",
   "metadata": {},
   "source": [
    "<h4> How to pass arguments and call the algorithm </h4>"
   ]
  },
  {
   "cell_type": "code",
   "execution_count": null,
   "id": "6d8a7f67-529f-4dc2-b057-bc86135e7a7c",
   "metadata": {},
   "outputs": [],
   "source": [
    "!python ../MEvA-X.py --dataset_path <str> --labels_path <str> --output_dir <str> --K <int> --P <int> --G <int> --crossover_perc <float> --arithmetic_perc <float> --mutation_perc <float> --goal_sig_list <list of float> -plt <bool>"
   ]
  },
  {
   "cell_type": "markdown",
   "id": "325fd984-cc9a-41ab-9ac7-2d772fcc1197",
   "metadata": {},
   "source": [
    "<h4>Ready to run example</h4>\n",
    "<p>The following cell will run the code with some selected attributes to have a runtime of about 5 minutes</p>"
   ]
  },
  {
   "cell_type": "code",
   "execution_count": null,
   "id": "aa803054-3cfe-49cc-ab10-0c0a86a5a744",
   "metadata": {
    "tags": []
   },
   "outputs": [],
   "source": [
    "!python ../MEvA-X.py --dataset_path ./Data/Ornish/diet_dataset.txt --labels_path ./Data/Ornish/diet_labels.txt --output_dir ./Data/Ornish/Results --K 5 --G 30 --P 60 --FS_dir ./Data/Ornish/FS_methods --goal_sig_path ./Data/Ornish/metrics_weights.txt --verbose False --plot False\n"
   ]
  },
  {
   "cell_type": "markdown",
   "id": "83ec44b6",
   "metadata": {},
   "source": [
    "### Data exploration\n",
    "<p>In the folder <code>Data</code> there are the datasets that were used to evaluate MEvA-X's performance.</p>"
   ]
  },
  {
   "cell_type": "code",
   "execution_count": 2,
   "id": "0a4fcb3f",
   "metadata": {},
   "outputs": [
    {
     "name": "stdout",
     "output_type": "stream",
     "text": [
      "Opera\n",
      "Ornish\n"
     ]
    }
   ],
   "source": [
    "!ls ../Data"
   ]
  },
  {
   "cell_type": "markdown",
   "id": "44ef90bc",
   "metadata": {},
   "source": [
    "### The omics dataset used in the  evaluation of the tool (ORNISH dataset)\n",
    "<p>Here there are the data used in the files <code> diet_dataset.txt </code> and <code> diet_labels.txt </code>, along with the precalculated featuers from the feature selection methods used (mRMR, JMI, SelectKBest, and Wilcoxon rank sum) in the subfolder <code>FS_methods.</code><br>\n",
    "Alternative data and the raw data can be also found here in the directories <code>Alternarive_data</code> and <code>GSE66175_RAW</code> respectively.</p>"
   ]
  },
  {
   "cell_type": "code",
   "execution_count": 3,
   "id": "7cbec79b",
   "metadata": {},
   "outputs": [
    {
     "name": "stdout",
     "output_type": "stream",
     "text": [
      "Alternarive_data\n",
      "FS_methods\n",
      "GSE66175_RAW\n",
      "ReadMe.txt\n",
      "Results\n",
      "diet_dataset.txt\n",
      "diet_labels.txt\n",
      "metrics_weights.txt\n"
     ]
    }
   ],
   "source": [
    "!ls ../Data/Ornish/"
   ]
  },
  {
   "cell_type": "markdown",
   "id": "7371b501",
   "metadata": {},
   "source": [
    "### The dataset with the categorical clinical data used in the  evaluation of the tool (OPERA study)\n",
    "<p>This dataset has the peculiarity of having 4 different labels:\n",
    "<ul>\n",
    "    <li>Total_Severity_Change</li>\n",
    "    <li>Total_Medicine_Change</li>\n",
    "    <li>Complaints_Change</li>\n",
    "    <li>Total_Interference_Change</li>\n",
    "</ul></p>\n",
    "\n",
    "<p> Here there are the data used <code>opera_full_dataset_headers.csv</code> and the labels with an nindication based on the label [1-4] (i.e. <code>opera_full_labels_binary_1.csv</code>).</p>"
   ]
  },
  {
   "cell_type": "code",
   "execution_count": 4,
   "id": "4040c5f7",
   "metadata": {},
   "outputs": [
    {
     "name": "stdout",
     "output_type": "stream",
     "text": [
      "Processed resulted data\n",
      "opera_full_dataset_headers.csv\n",
      "opera_full_dataset_headers_modified.csv\n",
      "opera_full_labels_binary_1.csv\n",
      "opera_full_labels_binary_1_ratio.csv\n",
      "opera_full_labels_binary_2.csv\n",
      "opera_full_labels_binary_2_ratio.csv\n",
      "opera_full_labels_binary_3.csv\n",
      "opera_full_labels_binary_3_ratio.csv\n",
      "opera_full_labels_binary_4.csv\n",
      "opera_full_labels_binary_4_ratio.csv\n"
     ]
    }
   ],
   "source": [
    "!ls ../Data/Opera/"
   ]
  },
  {
   "cell_type": "markdown",
   "id": "e5396619",
   "metadata": {},
   "source": [
    "## Format of the data"
   ]
  },
  {
   "cell_type": "markdown",
   "id": "a741ae94",
   "metadata": {},
   "source": [
    "The dataset must have the format of Features(Rows) and Samples(Columns) as the example below for the ORNISH dataset."
   ]
  },
  {
   "cell_type": "code",
   "execution_count": 5,
   "id": "300d0ca7",
   "metadata": {},
   "outputs": [
    {
     "data": {
      "text/html": [
       "<div>\n",
       "<style scoped>\n",
       "    .dataframe tbody tr th:only-of-type {\n",
       "        vertical-align: middle;\n",
       "    }\n",
       "\n",
       "    .dataframe tbody tr th {\n",
       "        vertical-align: top;\n",
       "    }\n",
       "\n",
       "    .dataframe thead th {\n",
       "        text-align: right;\n",
       "    }\n",
       "</style>\n",
       "<table border=\"1\" class=\"dataframe\">\n",
       "  <thead>\n",
       "    <tr style=\"text-align: right;\">\n",
       "      <th></th>\n",
       "      <th>GSM1123226</th>\n",
       "      <th>GSM1123229</th>\n",
       "      <th>GSM1123232</th>\n",
       "      <th>GSM1123235</th>\n",
       "      <th>GSM1123238</th>\n",
       "      <th>GSM1123241</th>\n",
       "      <th>GSM1123244</th>\n",
       "      <th>GSM1123247</th>\n",
       "      <th>GSM1123250</th>\n",
       "      <th>GSM1123253</th>\n",
       "      <th>...</th>\n",
       "      <th>GSM1616343</th>\n",
       "      <th>GSM1616349</th>\n",
       "      <th>GSM1616352</th>\n",
       "      <th>GSM1616355</th>\n",
       "      <th>GSM1616358</th>\n",
       "      <th>GSM1616361</th>\n",
       "      <th>GSM1616364</th>\n",
       "      <th>GSM1616370</th>\n",
       "      <th>GSM1616373</th>\n",
       "      <th>GSM1616377</th>\n",
       "    </tr>\n",
       "  </thead>\n",
       "  <tbody>\n",
       "    <tr>\n",
       "      <th>A1CF</th>\n",
       "      <td>1.997137</td>\n",
       "      <td>1.977951</td>\n",
       "      <td>2.000448</td>\n",
       "      <td>2.163751</td>\n",
       "      <td>2.264534</td>\n",
       "      <td>2.484324</td>\n",
       "      <td>2.293777</td>\n",
       "      <td>2.173547</td>\n",
       "      <td>2.048325</td>\n",
       "      <td>1.973053</td>\n",
       "      <td>...</td>\n",
       "      <td>2.191636</td>\n",
       "      <td>3.017657</td>\n",
       "      <td>1.900971</td>\n",
       "      <td>2.496558</td>\n",
       "      <td>2.260133</td>\n",
       "      <td>2.608056</td>\n",
       "      <td>2.208693</td>\n",
       "      <td>1.971933</td>\n",
       "      <td>1.921041</td>\n",
       "      <td>1.729271</td>\n",
       "    </tr>\n",
       "    <tr>\n",
       "      <th>A2M</th>\n",
       "      <td>2.927813</td>\n",
       "      <td>2.815217</td>\n",
       "      <td>2.699376</td>\n",
       "      <td>2.597491</td>\n",
       "      <td>2.766004</td>\n",
       "      <td>2.868498</td>\n",
       "      <td>2.759830</td>\n",
       "      <td>2.678432</td>\n",
       "      <td>2.468727</td>\n",
       "      <td>2.654994</td>\n",
       "      <td>...</td>\n",
       "      <td>2.677300</td>\n",
       "      <td>2.911305</td>\n",
       "      <td>2.829348</td>\n",
       "      <td>3.300244</td>\n",
       "      <td>2.712204</td>\n",
       "      <td>2.817870</td>\n",
       "      <td>3.098871</td>\n",
       "      <td>2.823615</td>\n",
       "      <td>2.939931</td>\n",
       "      <td>2.051417</td>\n",
       "    </tr>\n",
       "    <tr>\n",
       "      <th>A4GALT</th>\n",
       "      <td>3.379954</td>\n",
       "      <td>3.554587</td>\n",
       "      <td>3.859986</td>\n",
       "      <td>3.735692</td>\n",
       "      <td>3.839986</td>\n",
       "      <td>3.694807</td>\n",
       "      <td>3.957073</td>\n",
       "      <td>3.785929</td>\n",
       "      <td>3.783793</td>\n",
       "      <td>3.607401</td>\n",
       "      <td>...</td>\n",
       "      <td>3.743339</td>\n",
       "      <td>3.859428</td>\n",
       "      <td>3.500330</td>\n",
       "      <td>3.674115</td>\n",
       "      <td>3.813925</td>\n",
       "      <td>3.858801</td>\n",
       "      <td>4.042131</td>\n",
       "      <td>3.955895</td>\n",
       "      <td>3.601237</td>\n",
       "      <td>2.832809</td>\n",
       "    </tr>\n",
       "    <tr>\n",
       "      <th>A4GNT</th>\n",
       "      <td>3.118075</td>\n",
       "      <td>3.421110</td>\n",
       "      <td>3.109845</td>\n",
       "      <td>3.248038</td>\n",
       "      <td>3.389460</td>\n",
       "      <td>3.280458</td>\n",
       "      <td>3.411350</td>\n",
       "      <td>3.294243</td>\n",
       "      <td>3.093867</td>\n",
       "      <td>3.167107</td>\n",
       "      <td>...</td>\n",
       "      <td>3.557735</td>\n",
       "      <td>3.506442</td>\n",
       "      <td>3.233110</td>\n",
       "      <td>3.686294</td>\n",
       "      <td>3.448303</td>\n",
       "      <td>3.601149</td>\n",
       "      <td>3.798330</td>\n",
       "      <td>3.419127</td>\n",
       "      <td>2.947529</td>\n",
       "      <td>3.151458</td>\n",
       "    </tr>\n",
       "    <tr>\n",
       "      <th>AAAS</th>\n",
       "      <td>4.511405</td>\n",
       "      <td>3.975408</td>\n",
       "      <td>4.412049</td>\n",
       "      <td>4.336756</td>\n",
       "      <td>4.405672</td>\n",
       "      <td>4.406141</td>\n",
       "      <td>4.416622</td>\n",
       "      <td>4.332204</td>\n",
       "      <td>4.130575</td>\n",
       "      <td>4.088672</td>\n",
       "      <td>...</td>\n",
       "      <td>4.599047</td>\n",
       "      <td>4.393189</td>\n",
       "      <td>4.197215</td>\n",
       "      <td>4.444320</td>\n",
       "      <td>4.286565</td>\n",
       "      <td>4.439976</td>\n",
       "      <td>4.405658</td>\n",
       "      <td>4.502783</td>\n",
       "      <td>4.007231</td>\n",
       "      <td>3.748911</td>\n",
       "    </tr>\n",
       "    <tr>\n",
       "      <th>AACS</th>\n",
       "      <td>4.087969</td>\n",
       "      <td>3.698030</td>\n",
       "      <td>3.750196</td>\n",
       "      <td>3.884665</td>\n",
       "      <td>3.635781</td>\n",
       "      <td>3.904835</td>\n",
       "      <td>3.569468</td>\n",
       "      <td>3.744046</td>\n",
       "      <td>3.712510</td>\n",
       "      <td>3.824353</td>\n",
       "      <td>...</td>\n",
       "      <td>4.144722</td>\n",
       "      <td>4.158218</td>\n",
       "      <td>3.616319</td>\n",
       "      <td>4.007825</td>\n",
       "      <td>3.731593</td>\n",
       "      <td>4.121827</td>\n",
       "      <td>4.081275</td>\n",
       "      <td>3.839190</td>\n",
       "      <td>3.736109</td>\n",
       "      <td>3.486162</td>\n",
       "    </tr>\n",
       "    <tr>\n",
       "      <th>AADAC</th>\n",
       "      <td>2.214993</td>\n",
       "      <td>2.135038</td>\n",
       "      <td>1.999807</td>\n",
       "      <td>2.133586</td>\n",
       "      <td>2.041702</td>\n",
       "      <td>2.018951</td>\n",
       "      <td>2.366190</td>\n",
       "      <td>2.023894</td>\n",
       "      <td>2.001360</td>\n",
       "      <td>1.902781</td>\n",
       "      <td>...</td>\n",
       "      <td>1.508667</td>\n",
       "      <td>1.603348</td>\n",
       "      <td>2.108217</td>\n",
       "      <td>2.276404</td>\n",
       "      <td>2.336083</td>\n",
       "      <td>2.517568</td>\n",
       "      <td>1.812455</td>\n",
       "      <td>2.568179</td>\n",
       "      <td>1.795098</td>\n",
       "      <td>2.390095</td>\n",
       "    </tr>\n",
       "    <tr>\n",
       "      <th>AAGAB</th>\n",
       "      <td>4.288835</td>\n",
       "      <td>4.303349</td>\n",
       "      <td>4.254621</td>\n",
       "      <td>3.978215</td>\n",
       "      <td>4.077370</td>\n",
       "      <td>4.647711</td>\n",
       "      <td>4.173300</td>\n",
       "      <td>4.118008</td>\n",
       "      <td>4.291896</td>\n",
       "      <td>4.120694</td>\n",
       "      <td>...</td>\n",
       "      <td>4.542903</td>\n",
       "      <td>4.618909</td>\n",
       "      <td>4.059810</td>\n",
       "      <td>4.587161</td>\n",
       "      <td>4.329820</td>\n",
       "      <td>4.439015</td>\n",
       "      <td>4.774171</td>\n",
       "      <td>4.230036</td>\n",
       "      <td>3.795344</td>\n",
       "      <td>3.956252</td>\n",
       "    </tr>\n",
       "    <tr>\n",
       "      <th>AAK1</th>\n",
       "      <td>3.572398</td>\n",
       "      <td>3.600629</td>\n",
       "      <td>3.444927</td>\n",
       "      <td>3.238115</td>\n",
       "      <td>3.724022</td>\n",
       "      <td>3.920650</td>\n",
       "      <td>3.681007</td>\n",
       "      <td>3.660592</td>\n",
       "      <td>3.602863</td>\n",
       "      <td>3.464831</td>\n",
       "      <td>...</td>\n",
       "      <td>3.797183</td>\n",
       "      <td>3.648428</td>\n",
       "      <td>3.556650</td>\n",
       "      <td>3.748175</td>\n",
       "      <td>3.687850</td>\n",
       "      <td>3.657229</td>\n",
       "      <td>4.071347</td>\n",
       "      <td>3.708654</td>\n",
       "      <td>3.311513</td>\n",
       "      <td>3.044997</td>\n",
       "    </tr>\n",
       "    <tr>\n",
       "      <th>AAMDC</th>\n",
       "      <td>3.250973</td>\n",
       "      <td>3.562200</td>\n",
       "      <td>3.533278</td>\n",
       "      <td>3.383351</td>\n",
       "      <td>3.518026</td>\n",
       "      <td>3.748713</td>\n",
       "      <td>3.457587</td>\n",
       "      <td>3.559354</td>\n",
       "      <td>3.425850</td>\n",
       "      <td>3.300381</td>\n",
       "      <td>...</td>\n",
       "      <td>3.782098</td>\n",
       "      <td>3.749359</td>\n",
       "      <td>3.252337</td>\n",
       "      <td>4.052584</td>\n",
       "      <td>3.692548</td>\n",
       "      <td>3.683177</td>\n",
       "      <td>3.866862</td>\n",
       "      <td>3.529116</td>\n",
       "      <td>3.109000</td>\n",
       "      <td>2.497994</td>\n",
       "    </tr>\n",
       "  </tbody>\n",
       "</table>\n",
       "<p>10 rows × 89 columns</p>\n",
       "</div>"
      ],
      "text/plain": [
       "        GSM1123226  GSM1123229  GSM1123232  GSM1123235  GSM1123238  \\\n",
       "A1CF      1.997137    1.977951    2.000448    2.163751    2.264534   \n",
       "A2M       2.927813    2.815217    2.699376    2.597491    2.766004   \n",
       "A4GALT    3.379954    3.554587    3.859986    3.735692    3.839986   \n",
       "A4GNT     3.118075    3.421110    3.109845    3.248038    3.389460   \n",
       "AAAS      4.511405    3.975408    4.412049    4.336756    4.405672   \n",
       "AACS      4.087969    3.698030    3.750196    3.884665    3.635781   \n",
       "AADAC     2.214993    2.135038    1.999807    2.133586    2.041702   \n",
       "AAGAB     4.288835    4.303349    4.254621    3.978215    4.077370   \n",
       "AAK1      3.572398    3.600629    3.444927    3.238115    3.724022   \n",
       "AAMDC     3.250973    3.562200    3.533278    3.383351    3.518026   \n",
       "\n",
       "        GSM1123241  GSM1123244  GSM1123247  GSM1123250  GSM1123253  ...  \\\n",
       "A1CF      2.484324    2.293777    2.173547    2.048325    1.973053  ...   \n",
       "A2M       2.868498    2.759830    2.678432    2.468727    2.654994  ...   \n",
       "A4GALT    3.694807    3.957073    3.785929    3.783793    3.607401  ...   \n",
       "A4GNT     3.280458    3.411350    3.294243    3.093867    3.167107  ...   \n",
       "AAAS      4.406141    4.416622    4.332204    4.130575    4.088672  ...   \n",
       "AACS      3.904835    3.569468    3.744046    3.712510    3.824353  ...   \n",
       "AADAC     2.018951    2.366190    2.023894    2.001360    1.902781  ...   \n",
       "AAGAB     4.647711    4.173300    4.118008    4.291896    4.120694  ...   \n",
       "AAK1      3.920650    3.681007    3.660592    3.602863    3.464831  ...   \n",
       "AAMDC     3.748713    3.457587    3.559354    3.425850    3.300381  ...   \n",
       "\n",
       "        GSM1616343  GSM1616349  GSM1616352  GSM1616355  GSM1616358  \\\n",
       "A1CF      2.191636    3.017657    1.900971    2.496558    2.260133   \n",
       "A2M       2.677300    2.911305    2.829348    3.300244    2.712204   \n",
       "A4GALT    3.743339    3.859428    3.500330    3.674115    3.813925   \n",
       "A4GNT     3.557735    3.506442    3.233110    3.686294    3.448303   \n",
       "AAAS      4.599047    4.393189    4.197215    4.444320    4.286565   \n",
       "AACS      4.144722    4.158218    3.616319    4.007825    3.731593   \n",
       "AADAC     1.508667    1.603348    2.108217    2.276404    2.336083   \n",
       "AAGAB     4.542903    4.618909    4.059810    4.587161    4.329820   \n",
       "AAK1      3.797183    3.648428    3.556650    3.748175    3.687850   \n",
       "AAMDC     3.782098    3.749359    3.252337    4.052584    3.692548   \n",
       "\n",
       "        GSM1616361  GSM1616364  GSM1616370  GSM1616373  GSM1616377  \n",
       "A1CF      2.608056    2.208693    1.971933    1.921041    1.729271  \n",
       "A2M       2.817870    3.098871    2.823615    2.939931    2.051417  \n",
       "A4GALT    3.858801    4.042131    3.955895    3.601237    2.832809  \n",
       "A4GNT     3.601149    3.798330    3.419127    2.947529    3.151458  \n",
       "AAAS      4.439976    4.405658    4.502783    4.007231    3.748911  \n",
       "AACS      4.121827    4.081275    3.839190    3.736109    3.486162  \n",
       "AADAC     2.517568    1.812455    2.568179    1.795098    2.390095  \n",
       "AAGAB     4.439015    4.774171    4.230036    3.795344    3.956252  \n",
       "AAK1      3.657229    4.071347    3.708654    3.311513    3.044997  \n",
       "AAMDC     3.683177    3.866862    3.529116    3.109000    2.497994  \n",
       "\n",
       "[10 rows x 89 columns]"
      ]
     },
     "execution_count": 5,
     "metadata": {},
     "output_type": "execute_result"
    }
   ],
   "source": [
    "import pandas as pd\n",
    "import numpy as np\n",
    "import os\n",
    "data = pd.read_csv(\"../Data/Ornish/diet_dataset.txt\", index_col = 0, sep=\"\\t\")\n",
    "data.head(10)"
   ]
  },
  {
   "cell_type": "markdown",
   "id": "615acb12",
   "metadata": {},
   "source": [
    "The format of the labels is in a 1D array with the values corresponding to the samples of the data matrix"
   ]
  },
  {
   "cell_type": "code",
   "execution_count": 6,
   "id": "e0a40188",
   "metadata": {},
   "outputs": [
    {
     "data": {
      "text/html": [
       "<div>\n",
       "<style scoped>\n",
       "    .dataframe tbody tr th:only-of-type {\n",
       "        vertical-align: middle;\n",
       "    }\n",
       "\n",
       "    .dataframe tbody tr th {\n",
       "        vertical-align: top;\n",
       "    }\n",
       "\n",
       "    .dataframe thead th {\n",
       "        text-align: right;\n",
       "    }\n",
       "</style>\n",
       "<table border=\"1\" class=\"dataframe\">\n",
       "  <thead>\n",
       "    <tr style=\"text-align: right;\">\n",
       "      <th></th>\n",
       "      <th>0</th>\n",
       "      <th>1</th>\n",
       "      <th>2</th>\n",
       "      <th>3</th>\n",
       "      <th>4</th>\n",
       "      <th>5</th>\n",
       "      <th>6</th>\n",
       "      <th>7</th>\n",
       "      <th>8</th>\n",
       "      <th>9</th>\n",
       "      <th>...</th>\n",
       "      <th>79</th>\n",
       "      <th>80</th>\n",
       "      <th>81</th>\n",
       "      <th>82</th>\n",
       "      <th>83</th>\n",
       "      <th>84</th>\n",
       "      <th>85</th>\n",
       "      <th>86</th>\n",
       "      <th>87</th>\n",
       "      <th>88</th>\n",
       "    </tr>\n",
       "  </thead>\n",
       "  <tbody>\n",
       "    <tr>\n",
       "      <th>0</th>\n",
       "      <td>Non_responders</td>\n",
       "      <td>Responders</td>\n",
       "      <td>Responders</td>\n",
       "      <td>Responders</td>\n",
       "      <td>Responders</td>\n",
       "      <td>Responders</td>\n",
       "      <td>Responders</td>\n",
       "      <td>Responders</td>\n",
       "      <td>Responders</td>\n",
       "      <td>Responders</td>\n",
       "      <td>...</td>\n",
       "      <td>Responders</td>\n",
       "      <td>Responders</td>\n",
       "      <td>Responders</td>\n",
       "      <td>Responders</td>\n",
       "      <td>Non_responders</td>\n",
       "      <td>Non_responders</td>\n",
       "      <td>Non_responders</td>\n",
       "      <td>Responders</td>\n",
       "      <td>Non_responders</td>\n",
       "      <td>Non_responders</td>\n",
       "    </tr>\n",
       "  </tbody>\n",
       "</table>\n",
       "<p>1 rows × 89 columns</p>\n",
       "</div>"
      ],
      "text/plain": [
       "               0           1           2           3           4           5   \\\n",
       "0  Non_responders  Responders  Responders  Responders  Responders  Responders   \n",
       "\n",
       "           6           7           8           9   ...          79  \\\n",
       "0  Responders  Responders  Responders  Responders  ...  Responders   \n",
       "\n",
       "           80          81          82              83              84  \\\n",
       "0  Responders  Responders  Responders  Non_responders  Non_responders   \n",
       "\n",
       "               85          86              87              88  \n",
       "0  Non_responders  Responders  Non_responders  Non_responders  \n",
       "\n",
       "[1 rows x 89 columns]"
      ]
     },
     "execution_count": 6,
     "metadata": {},
     "output_type": "execute_result"
    }
   ],
   "source": [
    "labels = pd.read_csv(\"../Data/Ornish/diet_labels.txt\",header=None, sep=\"\\t\")\n",
    "labels.head(10)"
   ]
  },
  {
   "cell_type": "markdown",
   "id": "b9e0ac2c",
   "metadata": {},
   "source": [
    "## Results of the algorithm"
   ]
  },
  {
   "cell_type": "markdown",
   "id": "725f87b7",
   "metadata": {},
   "source": [
    "<p>The results of the algotirm are saved in the path indicated on the <code>MEvA-XV1.0.0.py</code></p> in the variable <code>output_folder</code>. The user can change this to any other path suitable but it is set to save the results in a relave path in the <code>./XGB_results/P&#60Population&#62_G&#60Generations&#62_K&#60K-fold&#62_&#60TimeStamp&#62</code> where:<br>\n",
    "Generations is the number of generations the user wants the algorithm to run for,<br>\n",
    "Population is the number of individual solutions the user has enteres,\n",
    "K-fold is the number for the variable K in the cross-validation framework<br>\n",
    "(i.e.: <code>./XGB_results/P100_G50_K10_524457</code>)"
   ]
  },
  {
   "cell_type": "markdown",
   "id": "56b6eb77",
   "metadata": {},
   "source": [
    "## Prameters of the algorithm"
   ]
  },
  {
   "cell_type": "markdown",
   "id": "dbe3ea19",
   "metadata": {},
   "source": [
    "### User defined parameters"
   ]
  },
  {
   "cell_type": "markdown",
   "id": "134fd914",
   "metadata": {},
   "source": [
    "<ul>\n",
    "    <h3>Path related variables</h3>\n",
    "    <li><code>dataset_filename</code></li>\n",
    "    <li><code>labels_filename</code></li>\n",
    "    <li><code>FS_dir</code></li>\n",
    "    <li><code>goal_significances</code></li>\n",
    "    <h3>Evolutionary algorithm related parameters</h3>\n",
    "    <li><code>population</code></li>\n",
    "    <li><code>generations</code></li>\n",
    "    <li><code>num_of_folds</code></li>\n",
    "    <li><code>two_points_crossover_probability</code></li>\n",
    "    <li><code>arithmetic_crossover_probability</code></li>\n",
    "    <li><code>mutation_probability</code></li>\n",
    "    <li><code>goal_significances</code></li>\n",
    "\n",
    "</ul>"
   ]
  },
  {
   "cell_type": "markdown",
   "id": "ca419852",
   "metadata": {},
   "source": [
    "### hyper-parameters of the classifier"
   ]
  },
  {
   "cell_type": "markdown",
   "id": "a1c46597",
   "metadata": {},
   "source": [
    "<p>These parameters control the exploration of the classifier's parameters space. The user can change the range [min, max] values of these parameters, even though this is not recomended because the values areset to explore a large set of hyperparameters.<br>\n",
    "In order to change these limits, one has to make modifications in the <code>__main__</code> function of the <code>MEvA-X_V1.0.0.py</code> in the array variables <code>min_values</code> and <code>max_values</code> respectively.</p>"
   ]
  },
  {
   "cell_type": "markdown",
   "id": "6e100500",
   "metadata": {},
   "source": [
    "<ol>\n",
    "    <h3>Feature Selection methods parameters</h3>\n",
    "    <li><code>FS_method</code></li>\n",
    "    <li><code>use_of_FS</code></li>\n",
    "    <li><code>k-NN(mifs)</code></li>\n",
    "    <li><code>k_SKB</code></li>\n",
    "    <h3>XGBoost parameters</h3>\n",
    "    <li><code>eta</code></li>\n",
    "    <li><code>max_depth</code></li>\n",
    "    <li><code>gamma</code></li>\n",
    "    <li><code>lambda</code></li>\n",
    "    <li><code>alpha</code></li>\n",
    "    <li><code>min_child_weight</code></li>\n",
    "    <li><code>scale_pos_weight</code></li>\n",
    "    <h3>Not used parameters</h3>\n",
    "    <li><code>colsample</code> [XGB, not used]</li>\n",
    "    <li><code>subsample</code> [XGB, not used]</li>\n",
    "\n",
    "</ol>"
   ]
  },
  {
   "cell_type": "markdown",
   "id": "3c6610cd",
   "metadata": {},
   "source": [
    "## How to call the algorithm for the different datasets\n",
    "<p>There are two scripts with which one can call the different datasets used in the evaluation of the tool. The reason is that the OPERA dataset has multiple labels and we decided to create a new script that asks the used to define which label to use.</p>"
   ]
  },
  {
   "cell_type": "markdown",
   "id": "825a7def",
   "metadata": {},
   "source": [
    "### How to call the algorithm for the ORNISH dataset"
   ]
  },
  {
   "cell_type": "markdown",
   "id": "4532f332",
   "metadata": {},
   "source": [
    "```python MEvA-X_V1.0.0.py```\n",
    "\n",
    "This script has the following by-default setings:\n",
    "<ul>\n",
    "    <h3>Path related variables</h3>\n",
    "    <li><code>dataset_filename = \"./Data/Ornish/diet_dataset.txt\"</code></li>\n",
    "    <li><code>labels_filename = \"./Data/Ornish/diet_labels.txt\"</code></li>\n",
    "    <li><code>FS_dir = \"./Data/Ornish/FS_methods/\"</code></li>\n",
    "</ul>\n"
   ]
  },
  {
   "cell_type": "markdown",
   "id": "23445f4c",
   "metadata": {},
   "source": [
    "### How to call the algorithm for the OPERA dataset"
   ]
  },
  {
   "cell_type": "markdown",
   "id": "295aad23",
   "metadata": {},
   "source": [
    "```python MEvA-X_V1.0.0_opera.py```\n",
    "\n",
    "This script has the following by-default setings:\n",
    "<ul>\n",
    "    <h3>Path related variables</h3>\n",
    "    <li><code>dataset_filename = \"./Data/Opera/opera_full_dataset_headers.csv\"</code> </li>\n",
    "    <li><code>labels_filename = \"./Data/Opera/opera_full_labels_binary_&#60[1-4]&#62.csv\"</code> and then the user is asked to provide a number [1-4] for the coresponding label</li>\n",
    "    <li><code>FS_dir = None</code> . Not all of the FS technques worked and it was decided to be calculated every time since the feature set is relatively small (~50 features)</li>\n",
    "</ul>"
   ]
  },
  {
   "cell_type": "code",
   "execution_count": null,
   "id": "3f1e876d-1c63-4b0d-9599-c827de3a0280",
   "metadata": {},
   "outputs": [],
   "source": [
    "!jupyter nbconvert --execute --to html MEvA-X_Tutorial_Notebook.ipynb"
   ]
  }
 ],
 "metadata": {
  "kernelspec": {
   "display_name": "Python 3 (ipykernel)",
   "language": "python",
   "name": "python3"
  },
  "language_info": {
   "codemirror_mode": {
    "name": "ipython",
    "version": 3
   },
   "file_extension": ".py",
   "mimetype": "text/x-python",
   "name": "python",
   "nbconvert_exporter": "python",
   "pygments_lexer": "ipython3",
   "version": "3.9.16"
  }
 },
 "nbformat": 4,
 "nbformat_minor": 5
}
