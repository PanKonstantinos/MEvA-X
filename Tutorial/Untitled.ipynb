{
 "cells": [
  {
   "cell_type": "code",
   "execution_count": 65,
   "id": "dbe36792-394a-4d40-baae-c0e69ac839ee",
   "metadata": {},
   "outputs": [],
   "source": [
    "import argparse\n",
    "import numpy as np\n",
    "\n",
    "#-K 10 \n",
    "#-P 50 \n",
    "#-G 200 \n",
    "#--dataset my_data.txt \n",
    "#--labels my_labels.tsv \n",
    "#-FS precalculated_features.csv \n",
    "#--output_dir current_folder \n",
    "#-cop 0.9 \n",
    "#-acp 0 \n",
    "#-mp 0.1 \n",
    "#-goal_sig_lst 0.8 2 0.8 1 1 0.7 0.7 1 2 0.5 2\n"
   ]
  },
  {
   "cell_type": "code",
   "execution_count": 4,
   "id": "91df918c-938f-4cb8-bd12-e59a82bd9b2b",
   "metadata": {},
   "outputs": [],
   "source": [
    "MEvAX_args = argparse.ArgumentParser()"
   ]
  },
  {
   "cell_type": "code",
   "execution_count": 50,
   "id": "6d877f50-d0b1-4593-bab8-fef21c4fb360",
   "metadata": {},
   "outputs": [],
   "source": [
    "def get_parser():\n",
    "    # defined command line options\n",
    "    # this also generates --help and error handling\n",
    "    MEvAX_args = argparse.ArgumentParser(prog='MEvA-X', description='A hybrid algorithm for feature selection, hyper-parameter optimization and model training.\\nMEvA-X uses a combination of a Nitched Pareto Evolutionary algorithm and the XGBoost Classifier to achieve the above-mentioned objectives.', epilog='This algorithm is the result of K. Panagiotopoulos, K. Theofilatos, M.A. Deriu, S.Mavroudi')\n",
    "\n",
    "    MEvAX_args.add_argument(\"--dataset_path\",  nargs=1, type=str,  default=[1, 2, 3], required=True, dest='dataset_filename') # \"*\" -> 0 or more values expected => creates a list\n",
    "    MEvAX_args.add_argument(\"--labels_path\",  nargs=1, type=str,  default=[1, 2, 3], required=True, dest='labels_filename')\n",
    "    MEvAX_args.add_argument(\"--FS_path\",  nargs=\"*\", type=str,  default=None, dest='FS_dir')\n",
    "    MEvAX_args.add_argument(\"--output_dir\",  nargs=\"*\", type=str,  default=False, dest='output_folder')\n",
    "    MEvAX_args.add_argument(\"--K\",  nargs=1, type=int, default=10, dest='num_of_folds')\n",
    "    MEvAX_args.add_argument(\"--P\",  nargs=1, type=int, default=50, dest='population')\n",
    "    MEvAX_args.add_argument(\"--G\",  nargs=1, type=int, default=100, dest='generations')\n",
    "    MEvAX_args.add_argument(\"--crossover_perc\",  nargs=1, type=float, default=0.9, dest='two_points_crossover_probability')\n",
    "    MEvAX_args.add_argument(\"--arithmetic_perc\",  nargs=1, type=float, default=0.0, dest='arithmetic_crossover_probability')\n",
    "    MEvAX_args.add_argument(\"--mutation_perc\",  nargs=1, type=float, default=0.05, dest='mutation_probability')\n",
    "    MEvAX_args.add_argument(\"--goal_sig_list\",  nargs=\"*\", type=str, default=[0.8,0.8,0.8,2,1,1,1,1,2,0.5,2], dest='goal_significances_filename') \n",
    "    return MEvAX_args\n"
   ]
  },
  {
   "cell_type": "code",
   "execution_count": 51,
   "id": "03dffa1e-013a-45ac-a872-dfca65e104f4",
   "metadata": {},
   "outputs": [
    {
     "data": {
      "text/plain": [
       "_StoreAction(option_strings=['--goal_sig_list'], dest='goal_significances_filename', nargs='*', const=None, default=[0.8, 0.8, 0.8, 2, 1, 1, 1, 1, 2, 0.5, 2], type=<class 'str'>, choices=None, required=False, help=None, metavar=None)"
      ]
     },
     "execution_count": 51,
     "metadata": {},
     "output_type": "execute_result"
    }
   ],
   "source": [
    "MEvAX_args = argparse.ArgumentParser(prog='MEvA-X', description='A hybrid algorithm for feature selection, hyper-parameter optimization and model training.\\nMEvA-X uses a combination of a Nitched Pareto Evolutionary algorithm and the XGBoost Classifier to achieve the above-mentioned objectives.', epilog='This algorithm is the result of K. Panagiotopoulos, K. Theofilatos, M.A. Deriu, S.Mavroudi')\n",
    "\n",
    "MEvAX_args.add_argument(\"--dataset_path\",  nargs=1, type=str,  default=[1, 2, 3], required=True, dest='dataset_filename') # \"*\" -> 0 or more values expected => creates a list\n",
    "MEvAX_args.add_argument(\"--labels_path\",  nargs=1, type=str,  default=[1, 2, 3], required=True, dest='labels_filename')\n",
    "MEvAX_args.add_argument(\"--FS_path\",  nargs=\"*\", type=str,  default=None, dest='FS_dir')\n",
    "MEvAX_args.add_argument(\"--output_dir\",  nargs=\"*\", type=str,  default=False, dest='output_folder')\n",
    "MEvAX_args.add_argument(\"--K\",  nargs=1, type=int, default=10, dest='num_of_folds')\n",
    "MEvAX_args.add_argument(\"--P\",  nargs=1, type=int, default=50, dest='population')\n",
    "MEvAX_args.add_argument(\"--G\",  nargs=1, type=int, default=100, dest='generations')\n",
    "MEvAX_args.add_argument(\"--crossover_perc\",  nargs=1, type=float, default=0.9, dest='two_points_crossover_probability')\n",
    "MEvAX_args.add_argument(\"--arithmetic_perc\",  nargs=1, type=float, default=0.0, dest='arithmetic_crossover_probability')\n",
    "MEvAX_args.add_argument(\"--mutation_perc\",  nargs=1, type=float, default=0.05, dest='mutation_probability')\n",
    "MEvAX_args.add_argument(\"--goal_sig_list\",  nargs=\"*\", type=str, default=[0.8,0.8,0.8,2,1,1,1,1,2,0.5,2], dest='goal_significances_filename') "
   ]
  },
  {
   "cell_type": "code",
   "execution_count": 52,
   "id": "796009a6-5f13-4469-9183-a172c27f463f",
   "metadata": {},
   "outputs": [],
   "source": [
    "# parse the command line\n",
    "args = MEvAX_args.parse_args(\"--dataset_path as --labels_path adsadasdad --goal_sig_list  datas_sadad.txt --mutation_perc 0.9\".split())\n",
    "# access CLI options\n",
    "#print(\"lista: %r\" % args.lista)"
   ]
  },
  {
   "cell_type": "code",
   "execution_count": 59,
   "id": "b0f2fa3c-a2cb-4249-846c-4b0fb9065df6",
   "metadata": {},
   "outputs": [
    {
     "name": "stdout",
     "output_type": "stream",
     "text": [
      "dataset_filename ['as']\n",
      "labels_filename ['adsadasdad']\n",
      "FS_dir None\n",
      "output_folder False\n",
      "num_of_folds 10\n",
      "population 50\n",
      "generations 100\n",
      "two_points_crossover_probability 0.9\n",
      "arithmetic_crossover_probability 0.0\n",
      "mutation_probability [0.9]\n",
      "goal_significances_filename ['datas_sadad.txt']\n"
     ]
    }
   ],
   "source": [
    "for arg in vars(args):\n",
    "    print(arg, getattr(args, arg))"
   ]
  },
  {
   "cell_type": "code",
   "execution_count": 71,
   "id": "9855b730-d0d2-45fe-a566-0f4ee7de1a00",
   "metadata": {},
   "outputs": [],
   "source": [
    "import os"
   ]
  },
  {
   "cell_type": "code",
   "execution_count": 73,
   "id": "35ee8534-3ab0-4f4b-ae08-5dfb64d5dcc3",
   "metadata": {},
   "outputs": [
    {
     "data": {
      "text/plain": [
       "'C:\\\\Users\\\\UTENTE\\\\Desktop\\\\meva_git\\\\MEvA-X\\\\Tutorial\\\\Results\\\\False'"
      ]
     },
     "execution_count": 73,
     "metadata": {},
     "output_type": "execute_result"
    }
   ],
   "source": [
    "os.path.join(os.getcwd(),\"Results\",f\"{output_folder}\")"
   ]
  },
  {
   "cell_type": "code",
   "execution_count": 60,
   "id": "956a850e-08f5-4d8a-bf84-4e3ee6a31dc9",
   "metadata": {},
   "outputs": [],
   "source": [
    "\n",
    "#parser = get_parser()\n",
    "#args = parser.parse_args()\n",
    "\n",
    "dataset_filename = args.dataset_filename\n",
    "labels_filename = args.labels_filename\n",
    "FS_dir = args.FS_dir\n",
    "output_folder = args.output_folder\n",
    "num_of_folds = args.num_of_folds\n",
    "population = args.population\n",
    "generations = args.generations\n",
    "two_points_crossover_probability = args.two_points_crossover_probability\n",
    "arithmetic_crossover_probability = args.arithmetic_crossover_probability\n",
    "mutation_probability = args.mutation_probability\n",
    "goal_significances_filename = args.goal_significances_filename\n"
   ]
  },
  {
   "cell_type": "code",
   "execution_count": 75,
   "id": "2e641f75-2a0d-42d9-9c2e-884746349e3c",
   "metadata": {},
   "outputs": [
    {
     "data": {
      "text/plain": [
       "'datas_sadad.txt'"
      ]
     },
     "execution_count": 75,
     "metadata": {},
     "output_type": "execute_result"
    }
   ],
   "source": [
    "goal_significances_filename[0]"
   ]
  },
  {
   "cell_type": "code",
   "execution_count": 68,
   "id": "12a16969-c0be-4b92-8ac5-efaa5da39fc8",
   "metadata": {},
   "outputs": [
    {
     "name": "stdout",
     "output_type": "stream",
     "text": [
      "['datas_sadad.txt']\n"
     ]
    }
   ],
   "source": [
    "try:\n",
    "    np.array(goal_significances_filename,dtype=int)\n",
    "except:\n",
    "    print(goal_significances_filename)"
   ]
  },
  {
   "cell_type": "code",
   "execution_count": 70,
   "id": "9016b30b-e947-4c66-8567-e9ce5b781c41",
   "metadata": {},
   "outputs": [
    {
     "name": "stdout",
     "output_type": "stream",
     "text": [
      "Variable                           Type              Data/Info\n",
      "--------------------------------------------------------------\n",
      "FS_dir                             NoneType          None\n",
      "MEvAX_args                         ArgumentParser    ArgumentParser(prog='MEvA<...>r='error', add_help=True)\n",
      "arg                                str               goal_significances_filename\n",
      "argparse                           module            <module 'argparse' from '<...>onda3\\\\lib\\\\argparse.py'>\n",
      "args                               Namespace         Namespace(dataset_filenam<...>name=['datas_sadad.txt'])\n",
      "arithmetic_crossover_probability   float             0.0\n",
      "dataset_filename                   list              n=1\n",
      "generations                        int               100\n",
      "get_parser                         function          <function get_parser at 0x0000022F69B26790>\n",
      "goal_significances_filename        list              n=1\n",
      "labels_filename                    list              n=1\n",
      "mutation_probability               list              n=1\n",
      "np                                 module            <module 'numpy' from 'C:\\<...>ges\\\\numpy\\\\__init__.py'>\n",
      "num_of_folds                       int               10\n",
      "output_folder                      bool              False\n",
      "population                         int               50\n",
      "two_points_crossover_probability   float             0.9\n"
     ]
    }
   ],
   "source": [
    "%whos"
   ]
  }
 ],
 "metadata": {
  "kernelspec": {
   "display_name": "Python 3 (ipykernel)",
   "language": "python",
   "name": "python3"
  },
  "language_info": {
   "codemirror_mode": {
    "name": "ipython",
    "version": 3
   },
   "file_extension": ".py",
   "mimetype": "text/x-python",
   "name": "python",
   "nbconvert_exporter": "python",
   "pygments_lexer": "ipython3",
   "version": "3.9.16"
  }
 },
 "nbformat": 4,
 "nbformat_minor": 5
}
