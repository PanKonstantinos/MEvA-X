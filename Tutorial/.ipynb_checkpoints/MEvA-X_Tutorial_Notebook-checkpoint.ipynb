{
 "cells": [
  {
   "cell_type": "markdown",
   "id": "e4f81300",
   "metadata": {},
   "source": [
    "# Tutorial for the use of the MEvA-X tool"
   ]
  },
  {
   "cell_type": "markdown",
   "id": "48a24773",
   "metadata": {},
   "source": [
    "<p>In this tutorial you will find instructions on how to run the MEvA-X for the datasets presented in the manuscript and an explanation of the parameters and variables the user can modify. Additionally, the necessary modules are provided with the version that was used while the algorithm was tested.</p>"
   ]
  },
  {
   "cell_type": "markdown",
   "id": "91addcbe",
   "metadata": {},
   "source": [
    "## Installing the necessary modules/libraries\n",
    "<p>Skip the <code>if False:</code> condition to run the followin cells code and install the libraries to your system</p>"
   ]
  },
  {
   "cell_type": "code",
   "execution_count": null,
   "id": "3d0886b0",
   "metadata": {},
   "outputs": [],
   "source": [
    "if False:\n",
    "    import sys\n",
    "    !{sys.executable} -m pip install pandas==1.4.4\n",
    "    !{sys.executable} -m pip install numpy==1.21.5\n",
    "    !{sys.executable} -m pip install xgboost==1.7.3\n",
    "    !{sys.executable} -m pip install git+https://github.com/danielhomola/mifs#egg=httpie\n",
    "    !{sys.executable} -m pip install git+https://github.com/iskandr/knnimpute#egg=httpie\n"
   ]
  },
  {
   "cell_type": "markdown",
   "id": "cc0202ab",
   "metadata": {},
   "source": [
    "## Examples of use"
   ]
  },
  {
   "cell_type": "markdown",
   "id": "0a644819-8451-42ef-adf8-5bd3d94c7f63",
   "metadata": {},
   "source": [
    "#### Calling the general the Algorithm (user inputs)"
   ]
  },
  {
   "cell_type": "markdown",
   "id": "af6b2351-4fd4-4afa-8694-fb9b1e069cc8",
   "metadata": {
    "tags": []
   },
   "source": [
    "<h3> Explanation of the in-line attributes of the MEvA-X tool</h3>\n",
    "<ul>\n",
    "    <li><code>--dataset_path</code> or <code>-A</code> [str (path to file)] path to the file of the dataset [obligatory]</li>\n",
    "    <li><code>--labels_path</code> or <code>-B</code> [str (path to file)] path to the file of the labels [obligatory]</li>\n",
    "    <li><code>--FS_dir</code> [str (path to direcroty)] path to the directory of the Feature selection methods files [optional]</li>\n",
    "    <li><code>--output_dir</code> [str (path to direcroty)] path to the directory where to save the results [optional]</li> \n",
    "    <li><code>--K</code> or <code>-k</code> [int] the number of folds in K-Fold cross validation [optional]. Default = 10</li>\n",
    "    <li><code>--P</code> or <code>-p</code> [int] the number of individuals in the population [optional]. Default = 50</li>\n",
    "    <li><code>--G</code> or <code>-g</code> [int] the number of maximum generations of the Evolutionary Algorithm [optional]. Default = 0</li>\n",
    "    <li><code>--crossover_perc</code> [float] the probability of a two-point crossover on the parental chromosomes taking place while producing an offspring [optional]. Default = 0.9</li>\n",
    "    <li><code>--arithmetic_perc</code> [float] the probability of an arithmetic crossover on the parental chromosomes taking place while producing an offspring [optional]. Default = 0.0</li>\n",
    "    <li><code>--mutation_perc</code> [float] the probability of pint mutations occuring to an offspring's chromosome [optional]. Default = 0.05</li>\n",
    "    <li><code>--goal_sig_path</code> or <code>-gsp</code> [str (path to file)] path to the file of the evaluation metrics weights [optional]. If given <code>goal_sig_list</code> is ignored</li>\n",
    "    <li><code>--goal_sig_list</code> or <code>-gsl</code> [list of float] a list of the weigts for the evaluation metrics [optional]</li>\n",
    "    <li><code>--impute</code> [boolean] Select if the missing values should be imputed with a KNN imputer. Default = <code>True</code></li>\n",
    "    <li><code>--normalize</code> [boolean] Select if the data should get normalized. If <code>True</code> it normalizes the values between the intervals [0, 1] or [-1, 1] if there are negative. Default = <code>True</code></li>\n",
    "    <li><code>--verbose</code> or <code>-V</code> [boolean] Controls the amount of information to be printed by the algorithm[optional]. Default is <code>False</code> (view less messages)</li>\n",
    "    <li><code>--plot</code> or <code>-plt</code> [boolean] The option of plotting and saving the AUC of the trainngs. If <code>True</code> it produces AUC plots for every itteration but also slows down the algorithm. Default = False</li>\n",
    "</ul>"
   ]
  },
  {
   "cell_type": "code",
   "execution_count": null,
   "id": "8703d1a9-0058-4380-bffc-6e1e6c0126e5",
   "metadata": {
    "tags": []
   },
   "outputs": [],
   "source": [
    "# Help and explanation of the algorithm\n",
    "!python ../beta/MEvA-X.py -h"
   ]
  },
  {
   "cell_type": "markdown",
   "id": "c0bc9644-38e8-4cbb-9574-9d6995607cbb",
   "metadata": {},
   "source": [
    "<h4> How to pass arguments and call the algorithm </h4>"
   ]
  },
  {
   "cell_type": "code",
   "execution_count": null,
   "id": "6d8a7f67-529f-4dc2-b057-bc86135e7a7c",
   "metadata": {},
   "outputs": [],
   "source": [
    "!python ../beta/MEvA-X.py --dataset_path <str> --labels_path <str> --output_dir <str> --K <int> --P <int> --G <int> --crossover_perc <float> --arithmetic_perc <float> --mutation_perc <float> --goal_sig_list <list of float> -plt <bool>\n"
   ]
  },
  {
   "cell_type": "markdown",
   "id": "325fd984-cc9a-41ab-9ac7-2d772fcc1197",
   "metadata": {},
   "source": [
    "<h4>Ready to run example</h4>\n",
    "<p>The following cell will run the code with some selected attributes to have a runtime of about 5 minutes</p>"
   ]
  },
  {
   "cell_type": "code",
   "execution_count": null,
   "id": "aa803054-3cfe-49cc-ab10-0c0a86a5a744",
   "metadata": {
    "tags": []
   },
   "outputs": [],
   "source": [
    "!python ../beta/MEvA-X.py --dataset_path ../Data/Ornish/diet_dataset.txt --labels_path ../Data/Ornish/diet_labels.txt --output_dir ../Data/Ornish/Results --K 5 --G 80 --P 50 --FS_dir ../Data/Ornish/FS_methods --verbose False --goal_sig_path ../Data/Ornish/metrics_weights.txt  --plot True\n"
   ]
  },
  {
   "cell_type": "code",
   "execution_count": null,
   "id": "f7d23be9-2d49-42ff-b625-0798713c24e4",
   "metadata": {},
   "outputs": [],
   "source": [
    "!python ../beta/MEvA-X.py --dataset_path ../Data/Ornish/diet_dataset.txt --labels_path ../Data/Ornish/diet_labels.txt --output_dir ../Data/Ornish/Results --K 5 --G 5 --P 10 --FS_dir ../Data/Ornish/FS_methods --goal_sig_path ../Data/Ornish/metrics_weights.txt --verbose False --plot False\n"
   ]
  },
  {
   "cell_type": "markdown",
   "id": "83ec44b6",
   "metadata": {},
   "source": [
    "### Data exploration\n",
    "<p>In the folder <code>Data</code> there are the datasets that were used to evaluate MEvA-X's performance.</p>"
   ]
  },
  {
   "cell_type": "code",
   "execution_count": null,
   "id": "0a4fcb3f",
   "metadata": {},
   "outputs": [],
   "source": [
    "!ls ../Data"
   ]
  },
  {
   "cell_type": "markdown",
   "id": "44ef90bc",
   "metadata": {},
   "source": [
    "### The omics dataset used in the  evaluation of the tool (ORNISH dataset)\n",
    "<p>Here there are the data used in the files <code> diet_dataset.txt </code> and <code> diet_labels.txt </code>, along with the precalculated featuers from the feature selection methods used (mRMR, JMI, SelectKBest, and Wilcoxon rank sum) in the subfolder <code>FS_methods.</code><br>\n",
    "Alternative data and the raw data can be also found here in the directories <code>Alternarive_data</code> and <code>GSE66175_RAW</code> respectively.</p>"
   ]
  },
  {
   "cell_type": "code",
   "execution_count": null,
   "id": "7cbec79b",
   "metadata": {},
   "outputs": [],
   "source": [
    "!ls ../Data/Ornish/"
   ]
  },
  {
   "cell_type": "markdown",
   "id": "7371b501",
   "metadata": {},
   "source": [
    "### The dataset with the categorical clinical data used in the  evaluation of the tool (OPERA study)\n",
    "<p>This dataset has the peculiarity of having 4 different labels:\n",
    "<ul>\n",
    "    <li>Total_Severity_Change</li>\n",
    "    <li>Total_Medicine_Change</li>\n",
    "    <li>Complaints_Change</li>\n",
    "    <li>Total_Interference_Change</li>\n",
    "</ul></p>\n",
    "\n",
    "<p> Here there are the data used <code>opera_full_dataset_headers.csv</code> and the labels with an nindication based on the label [1-4] (i.e. <code>opera_full_labels_binary_1.csv</code>).</p>"
   ]
  },
  {
   "cell_type": "code",
   "execution_count": null,
   "id": "4040c5f7",
   "metadata": {},
   "outputs": [],
   "source": [
    "!ls ../Data/Opera/"
   ]
  },
  {
   "cell_type": "markdown",
   "id": "e5396619",
   "metadata": {},
   "source": [
    "## Format of the data"
   ]
  },
  {
   "cell_type": "markdown",
   "id": "a741ae94",
   "metadata": {},
   "source": [
    "The dataset must have the format of Features(Rows) and Samples(Columns) as the example below for the ORNISH dataset."
   ]
  },
  {
   "cell_type": "code",
   "execution_count": null,
   "id": "300d0ca7",
   "metadata": {},
   "outputs": [],
   "source": [
    "import pandas as pd\n",
    "import numpy as np\n",
    "import os\n",
    "data = pd.read_csv(\"../Data/Ornish/diet_dataset.txt\", index_col = 0, sep=\"\\t\")\n",
    "data.head(10)"
   ]
  },
  {
   "cell_type": "markdown",
   "id": "615acb12",
   "metadata": {},
   "source": [
    "The format of the labels is in a 1D array with the values corresponding to the samples of the data matrix"
   ]
  },
  {
   "cell_type": "code",
   "execution_count": null,
   "id": "e0a40188",
   "metadata": {},
   "outputs": [],
   "source": [
    "labels = pd.read_csv(\"../Data/Ornish/diet_labels.txt\",header=None, sep=\"\\t\")\n",
    "labels.head(10)"
   ]
  },
  {
   "cell_type": "markdown",
   "id": "b9e0ac2c",
   "metadata": {},
   "source": [
    "## Results of the algorithm"
   ]
  },
  {
   "cell_type": "markdown",
   "id": "725f87b7",
   "metadata": {},
   "source": [
    "<p>The results of the algotirm are saved in the path indicated on the <code>MEvA-XV1.0.0.py</code></p> in the variable <code>output_folder</code>. The user can change this to any other path suitable but it is set to save the results in a relave path in the <code>./XGB_results/P&#60Population&#62_G&#60Generations&#62_K&#60K-fold&#62_&#60TimeStamp&#62</code> where:<br>\n",
    "Generations is the number of generations the user wants the algorithm to run for,<br>\n",
    "Population is the number of individual solutions the user has enteres,\n",
    "K-fold is the number for the variable K in the cross-validation framework<br>\n",
    "(i.e.: <code>./XGB_results/P100_G50_K10_524457</code>)"
   ]
  },
  {
   "cell_type": "markdown",
   "id": "56b6eb77",
   "metadata": {},
   "source": [
    "## Prameters of the algorithm"
   ]
  },
  {
   "cell_type": "markdown",
   "id": "dbe3ea19",
   "metadata": {},
   "source": [
    "### User defined parameters"
   ]
  },
  {
   "cell_type": "markdown",
   "id": "134fd914",
   "metadata": {},
   "source": [
    "<ul>\n",
    "    <h3>Path related variables</h3>\n",
    "    <li><code>dataset_filename</code></li>\n",
    "    <li><code>labels_filename</code></li>\n",
    "    <li><code>FS_dir</code></li>\n",
    "    <li><code>goal_significances</code></li>\n",
    "    <h3>Evolutionary algorithm related parameters</h3>\n",
    "    <li><code>population</code></li>\n",
    "    <li><code>generations</code></li>\n",
    "    <li><code>num_of_folds</code></li>\n",
    "    <li><code>two_points_crossover_probability</code></li>\n",
    "    <li><code>arithmetic_crossover_probability</code></li>\n",
    "    <li><code>mutation_probability</code></li>\n",
    "    <li><code>goal_significances</code></li>\n",
    "\n",
    "</ul>"
   ]
  },
  {
   "cell_type": "markdown",
   "id": "ca419852",
   "metadata": {},
   "source": [
    "### hyper-parameters of the classifier"
   ]
  },
  {
   "cell_type": "markdown",
   "id": "a1c46597",
   "metadata": {},
   "source": [
    "<p>These parameters control the exploration of the classifier's parameters space. The user can change the range [min, max] values of these parameters, even though this is not recomended because the values areset to explore a large set of hyperparameters.<br>\n",
    "In order to change these limits, one has to make modifications in the <code>__main__</code> function of the <code>MEvA-X_V1.0.0.py</code> in the array variables <code>min_values</code> and <code>max_values</code> respectively.</p>"
   ]
  },
  {
   "cell_type": "markdown",
   "id": "6e100500",
   "metadata": {},
   "source": [
    "<ol>\n",
    "    <h3>Feature Selection methods parameters</h3>\n",
    "    <li><code>FS_method</code></li>\n",
    "    <li><code>use_of_FS</code></li>\n",
    "    <li><code>k-NN(mifs)</code></li>\n",
    "    <li><code>k_SKB</code></li>\n",
    "    <h3>XGBoost parameters</h3>\n",
    "    <li><code>eta</code></li>\n",
    "    <li><code>max_depth</code></li>\n",
    "    <li><code>gamma</code></li>\n",
    "    <li><code>lambda</code></li>\n",
    "    <li><code>alpha</code></li>\n",
    "    <li><code>min_child_weight</code></li>\n",
    "    <li><code>scale_pos_weight</code></li>\n",
    "    <h3>Not used parameters</h3>\n",
    "    <li><code>colsample</code> [XGB, not used]</li>\n",
    "    <li><code>subsample</code> [XGB, not used]</li>\n",
    "\n",
    "</ol>"
   ]
  },
  {
   "cell_type": "markdown",
   "id": "3c6610cd",
   "metadata": {},
   "source": [
    "## How to call the algorithm for the different datasets\n",
    "<p>There are two scripts with which one can call the different datasets used in the evaluation of the tool. The reason is that the OPERA dataset has multiple labels and we decided to create a new script that asks the used to define which label to use.</p>"
   ]
  },
  {
   "cell_type": "markdown",
   "id": "825a7def",
   "metadata": {},
   "source": [
    "### How to call the algorithm for the ORNISH dataset"
   ]
  },
  {
   "cell_type": "markdown",
   "id": "4532f332",
   "metadata": {},
   "source": [
    "```python MEvA-X_V1.0.0.py```\n",
    "\n",
    "This script has the following by-default setings:\n",
    "<ul>\n",
    "    <h3>Path related variables</h3>\n",
    "    <li><code>dataset_filename = \"./Data/Ornish/diet_dataset.txt\"</code></li>\n",
    "    <li><code>labels_filename = \"./Data/Ornish/diet_labels.txt\"</code></li>\n",
    "    <li><code>FS_dir = \"./Data/Ornish/FS_methods/\"</code></li>\n",
    "</ul>\n"
   ]
  },
  {
   "cell_type": "markdown",
   "id": "23445f4c",
   "metadata": {},
   "source": [
    "### How to call the algorithm for the OPERA dataset"
   ]
  },
  {
   "cell_type": "markdown",
   "id": "295aad23",
   "metadata": {},
   "source": [
    "```python MEvA-X_V1.0.0_opera.py```\n",
    "\n",
    "This script has the following by-default setings:\n",
    "<ul>\n",
    "    <h3>Path related variables</h3>\n",
    "    <li><code>dataset_filename = \"./Data/Opera/opera_full_dataset_headers.csv\"</code> </li>\n",
    "    <li><code>labels_filename = \"./Data/Opera/opera_full_labels_binary_&#60[1-4]&#62.csv\"</code> and then the user is asked to provide a number [1-4] for the coresponding label</li>\n",
    "    <li><code>FS_dir = None</code> . Not all of the FS technques worked and it was decided to be calculated every time since the feature set is relatively small (~50 features)</li>\n",
    "</ul>"
   ]
  },
  {
   "cell_type": "code",
   "execution_count": null,
   "id": "3f1e876d-1c63-4b0d-9599-c827de3a0280",
   "metadata": {},
   "outputs": [],
   "source": [
    "!jupyter nbconvert --execute --to html MEvA-X_Tutorial_Notebook.ipynb"
   ]
  }
 ],
 "metadata": {
  "kernelspec": {
   "display_name": "Python 3 (ipykernel)",
   "language": "python",
   "name": "python3"
  },
  "language_info": {
   "codemirror_mode": {
    "name": "ipython",
    "version": 3
   },
   "file_extension": ".py",
   "mimetype": "text/x-python",
   "name": "python",
   "nbconvert_exporter": "python",
   "pygments_lexer": "ipython3",
   "version": "3.9.16"
  }
 },
 "nbformat": 4,
 "nbformat_minor": 5
}
